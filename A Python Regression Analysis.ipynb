{
 "cells": [
  {
   "cell_type": "markdown",
   "metadata": {},
   "source": [
    "# A Python Regression Analysis\n",
    "\n",
    "First, we need to perform all necessary Python imports"
   ]
  },
  {
   "cell_type": "code",
   "execution_count": 143,
   "metadata": {
    "collapsed": true
   },
   "outputs": [],
   "source": [
    "import numpy as np\n",
    "import matplotlib as mp\n",
    "import matplotlib.pyplot as plt"
   ]
  },
  {
   "cell_type": "markdown",
   "metadata": {},
   "source": [
    "## Regression with one variable\n",
    "\n",
    "First, we need to read and store data."
   ]
  },
  {
   "cell_type": "code",
   "execution_count": 144,
   "metadata": {
    "collapsed": true
   },
   "outputs": [],
   "source": [
    "data = np.genfromtxt('data/ex1data1', delimiter=',')\n",
    "x = data[:,[0]]\n",
    "y = data[:,[1]]"
   ]
  },
  {
   "cell_type": "markdown",
   "metadata": {},
   "source": [
    "### Data Visualization"
   ]
  },
  {
   "cell_type": "code",
   "execution_count": 145,
   "metadata": {},
   "outputs": [
    {
     "data": {
      "image/png": "[encoded data removed]",
      "text/plain": [
       "<matplotlib.figure.Figure at 0x7ffa48948cf8>"
      ]
     },
     "metadata": {},
     "output_type": "display_data"
    }
   ],
   "source": [
    "area   = np.pi*3\n",
    "colors = (0,0,0)\n",
    "\n",
    "plt.close('all')\n",
    "\n",
    "plt.scatter(x,y,s=area,c=colors,alpha=0.5)\n",
    "plt.xlabel('Population of city in 10,000s')\n",
    "plt.ylabel('Profit in $10,000')\n",
    "\n",
    "plt.show()"
   ]
  },
  {
   "cell_type": "markdown",
   "metadata": {},
   "source": [
    "### The Cost Function\n",
    "\n",
    "The Cost Function is used to represent a linear expression that best represents a hypothesis for the data under study. The parameter θ takes values so that the function J (θ) is minimized by approaching the values ​​obtained with the reference values in y."
   ]
  },
  {
   "cell_type": "code",
   "execution_count": 146,
   "metadata": {
    "collapsed": true
   },
   "outputs": [],
   "source": [
    "def cost_function(x, y, theta):\n",
    "    m = y.size\n",
    "    regression = x.dot(theta)\n",
    "    regressionError = np.sum((regression - y)**2)\n",
    "    return ((1./(2*m))*regressionError)"
   ]
  },
  {
   "cell_type": "markdown",
   "metadata": {},
   "source": [
    "For the data under study, the cost function should return an approximate value of 32,072 for the initial values of θ. Let's test the function return to θ at zero"
   ]
  },
  {
   "cell_type": "code",
   "execution_count": 147,
   "metadata": {},
   "outputs": [
    {
     "data": {
      "text/plain": [
       "32.072733877455676"
      ]
     },
     "execution_count": 147,
     "metadata": {},
     "output_type": "execute_result"
    }
   ],
   "source": [
    "' Update y in order to perform good matrices operations '\n",
    "y = data[:,1]\n",
    "' Insert ones in order to perform good matrices operations '\n",
    "x = np.insert(x, 0, np.ones(x.size), axis=1)\n",
    "theta = np.array([0., 0.])\n",
    "cost_function(x,y,theta)"
   ]
  },
  {
   "cell_type": "markdown",
   "metadata": {},
   "source": [
    "### Gradient Descent\n",
    "\n",
    "In order to find the better fit for our prediction model, lets implement the Gradient Descent algorithm and minimize our J(θ). We will perform little steps across theta values and control the convergence, in order to ensure  that the final θ are what we are looking for."
   ]
  },
  {
   "cell_type": "code",
   "execution_count": 148,
   "metadata": {
    "collapsed": true
   },
   "outputs": [],
   "source": [
    "def gradient_descent(x, y, theta, alpha, tolerance, log = False):\n",
    "    m = y.size\n",
    "    episilon  = 0.000001\n",
    "    residual  = np.ones(tolerance)\n",
    "    interact = 0\n",
    "    converge = False\n",
    "    while not converge:\n",
    "        ' step 1 : Start adjusting theta values '\n",
    "        hypothesis   = x.dot(theta)\n",
    "        error        = (hypothesis - y)\n",
    "        gradient     = (1./m) * (alpha) * (x.T.dot(error))\n",
    "        \n",
    "        tmpTheta = theta\n",
    "        theta = theta - gradient\n",
    "        \n",
    "        ' step 2 : Run the cost function over the data with new theta '\n",
    "        residual[interact] = cost_function(x, y, theta)\n",
    "        \n",
    "        if interact % 100 == 0 and log:\n",
    "            print('Interaction ' + str(interact) + ' - Residual cost '+ str(residual[interact]))\n",
    "        \n",
    "        ' step 3 : Verify convergence over the given episilon and residual given step, also verify tolerance tries '\n",
    "        \n",
    "        step = abs(np.linalg.norm(theta) - np.linalg.norm(tmpTheta))        \n",
    "        converge = (step <= episilon)\n",
    "        \n",
    "        if (interact + 1) == tolerance:\n",
    "            print('Caution! GD has reached the tolerance. Results may not converge.')\n",
    "            converge = True\n",
    "            \n",
    "        interact = interact + 1\n",
    "        \n",
    "    return theta, residual, interact"
   ]
  },
  {
   "cell_type": "code",
   "execution_count": 149,
   "metadata": {},
   "outputs": [
    {
     "name": "stdout",
     "output_type": "stream",
     "text": [
      "Caution! GD has reached the tolerance. Results may not converge.\n",
      "Last interaction was 4000 and the output for θ is: \n",
      "[-3.89286253  1.19274046]\n"
     ]
    }
   ],
   "source": [
    "(t,r,i) = gradient_descent(x, y, theta, 0.01, 4000)\n",
    "\n",
    "print('Last interaction was '+ str(i) + ' and the output for θ is: ')\n",
    "print(t)"
   ]
  },
  {
   "cell_type": "markdown",
   "metadata": {},
   "source": [
    "The α component of the Gradient Descent is a scalar used to regulate the learning rate. It can be interpreted as the \"step size\" that will be given by the gradient vector. The higher the α, the more aggressive the learning rate.\n",
    "\n",
    "Our test has reached the maximum number of attempts. We can conclude that the definition of the value for parameter α plays an important role in the convergence of our algorithm.\n",
    "\n",
    "We still need to make sure that our task is performing as expected. So, we can plot the error rate behavior and ensure that it decreases when reaching the max interation. We can conlude that 0.01 lead us for the max execution and is not a good choice for α."
   ]
  },
  {
   "cell_type": "code",
   "execution_count": 151,
   "metadata": {},
   "outputs": [
    {
     "data": {
      "image/png": "[encoded data removed]",
      "text/plain": [
       "<matplotlib.figure.Figure at 0x7ffa48abfda0>"
      ]
     },
     "metadata": {},
     "output_type": "display_data"
    }
   ],
   "source": [
    "plt.close('all')\n",
    "\n",
    "plt.figure(figsize=(10,6))\n",
    "\n",
    "axes = plt.gca()\n",
    "axes.set_xlim([0,i])\n",
    "\n",
    "plt.plot(r)\n",
    "\n",
    "plt.show()"
   ]
  },
  {
   "cell_type": "markdown",
   "metadata": {},
   "source": [
    "### How to use the model and perform a prediction"
   ]
  },
  {
   "cell_type": "markdown",
   "metadata": {},
   "source": [
    "Using the obtained model to perform a prediction is a very easy task when working with one variable linear regression. We will use matrice operations to obtain the prediction values for cities with 35.000 and 70.000 population"
   ]
  },
  {
   "cell_type": "code",
   "execution_count": 152,
   "metadata": {},
   "outputs": [
    {
     "name": "stdout",
     "output_type": "stream",
     "text": [
      "Predicting values for 35.000 population : 37.8530537174\n",
      "Predicting values for 35.000 population : 79.5989699615\n"
     ]
    }
   ],
   "source": [
    "' Predicting values for 35.000 population '\n",
    "p = np.array([1., 35.000]).dot(t)\n",
    "print('Predicting values for 35.000 population : ' + str(p))\n",
    "\n",
    "' Predicting values for 70.000 population '\n",
    "p = np.array([1., 70.000]).dot(t)\n",
    "print('Predicting values for 35.000 population : ' + str(p))"
   ]
  },
  {
   "cell_type": "markdown",
   "metadata": {},
   "source": [
    "## Regression with multiple variables\n",
    "\n",
    "In this stage of the work, we will perform Multivariate Linear Regression. For the data under study, it is necessary to perform a normalization task since the data are at different scales. Then, we will perform tasks similar to those performed in Simple Linear Regression, implementing a Gradient function capable of dealing with target data with various parameters.\n",
    "\n",
    "Lets initialize the new sort of data."
   ]
  },
  {
   "cell_type": "code",
   "execution_count": 153,
   "metadata": {
    "collapsed": true
   },
   "outputs": [],
   "source": [
    "data = np.genfromtxt('data/ex1data2', delimiter=',')\n",
    "x = data[:,[0]]\n",
    "y = data[:,1]"
   ]
  },
  {
   "cell_type": "markdown",
   "metadata": {},
   "source": [
    "### Feature scaling or feature normalization\n",
    "\n",
    "Feature scaling is a method used to standardize the range of independent variables or features of data. In data processing, it is also known as data normalization and is generally performed during the data preprocessing step."
   ]
  },
  {
   "cell_type": "code",
   "execution_count": 154,
   "metadata": {
    "collapsed": true
   },
   "outputs": [],
   "source": [
    "def standardization(x):\n",
    "    mean_residual = []\n",
    "    std_residual  = []\n",
    "    standardization = x\n",
    "    \n",
    "    dimension = x.shape[1]    \n",
    "    for i in range(dimension):\n",
    "        mean = np.mean(x[:, i])\n",
    "        std  = np.std(x[:, i])\n",
    "        \n",
    "        mean_residual.append(mean)\n",
    "        std_residual.append(std)\n",
    "        \n",
    "        standardization[:, i] = (1./std)*(standardization[:, i] - mean)\n",
    "        \n",
    "    return standardization"
   ]
  },
  {
   "cell_type": "markdown",
   "metadata": {},
   "source": [
    "The above function runs over our target data and scale all features for the same interval. Lets run it and output the first target row."
   ]
  },
  {
   "cell_type": "code",
   "execution_count": 155,
   "metadata": {},
   "outputs": [
    {
     "name": "stdout",
     "output_type": "stream",
     "text": [
      "[ 0.13141542 -0.22609337  0.48089023]\n"
     ]
    }
   ],
   "source": [
    "print(standardization(data)[0])"
   ]
  },
  {
   "cell_type": "markdown",
   "metadata": {},
   "source": [
    "### Cost Function"
   ]
  },
  {
   "cell_type": "code",
   "execution_count": 156,
   "metadata": {
    "collapsed": true
   },
   "outputs": [],
   "source": [
    "def cost_function(x, y, theta):\n",
    "    m = y.size\n",
    "    regression = x.dot(theta)\n",
    "    regressionError = np.sum((regression - y)**2)\n",
    "    return ((1./(2*m))*regressionError)"
   ]
  },
  {
   "cell_type": "markdown",
   "metadata": {},
   "source": [
    "### Gradient Descent"
   ]
  },
  {
   "cell_type": "code",
   "execution_count": 157,
   "metadata": {
    "collapsed": true
   },
   "outputs": [],
   "source": [
    "def gradient_descent(x, y, theta, alpha, tolerance, log=False):\n",
    "    m = y.size\n",
    "    episilon = 0.000001\n",
    "    residual = np.ones(tolerance)\n",
    "    interact = 0\n",
    "    converge = False\n",
    "    while not converge:\n",
    "        ' step 1 : Start adjusting theta values '\n",
    "        hypothesis   = x.dot(theta)\n",
    "        error        = hypothesis - y\n",
    "        gradient     = (1./m) * (alpha) * (x.T.dot(error))\n",
    "        \n",
    "        tmpTheta = theta\n",
    "        theta = theta - gradient\n",
    "        \n",
    "        ' step 2: Run the cost function over the data with new theta '\n",
    "        residual[interact] = cost_function(x, y, theta)\n",
    "        \n",
    "        if interact % 100 == 0 and log:\n",
    "            ' The main idea here is to minimize the error value when evaluating the hypothesis '\n",
    "            print('Error ' + str(residual[interact]))\n",
    "        \n",
    "        ' step 3 : Verify convergence over the given episilon and residual given step, also verify tolerance tries '\n",
    "        step = abs(np.linalg.norm(theta) - np.linalg.norm(tmpTheta))        \n",
    "        converge = (step <= episilon)\n",
    "        \n",
    "        if (interact + 1) == tolerance:\n",
    "            print('Caution! GD has reached the tolerance. Results may not converge.')\n",
    "            converge = True\n",
    "            \n",
    "        interact = interact + 1\n",
    "        \n",
    "    return theta, residual, interact"
   ]
  },
  {
   "cell_type": "code",
   "execution_count": 158,
   "metadata": {},
   "outputs": [
    {
     "name": "stdout",
     "output_type": "stream",
     "text": [
      "Last interaction was 1745 and the output for θ is: \n",
      "[ -2.81630511e-17   8.84552670e-01  -5.29655019e-02]\n"
     ]
    }
   ],
   "source": [
    "data = standardization(data)\n",
    "\n",
    "x = data[:, :2]\n",
    "y = data[:, [2]]\n",
    "y = y[:,0]\n",
    "\n",
    "x = np.insert(x, 0, np.ones(x.shape[0]), axis=1)\n",
    "\n",
    "theta = np.array([0., 0., 0.])\n",
    "\n",
    "(t,r,i) = gradient_descent(x, y, theta, 0.01, 4000)\n",
    "\n",
    "print('Last interaction was ' + str(i)  + ' and the output for θ is: ')\n",
    "print(t) "
   ]
  },
  {
   "cell_type": "markdown",
   "metadata": {},
   "source": [
    "This time, our Gradient Descent has converged and stoped before interaction counter reaches the tolerance limit. Lets visualize the error rate behavior while performing the task and make sure it deacrases until the max interaction."
   ]
  },
  {
   "cell_type": "code",
   "execution_count": 159,
   "metadata": {},
   "outputs": [
    {
     "data": {
      "image/png": "[encoded data removed]",
      "text/plain": [
       "<matplotlib.figure.Figure at 0x7ffa489961d0>"
      ]
     },
     "metadata": {},
     "output_type": "display_data"
    }
   ],
   "source": [
    "plt.close('all')\n",
    "\n",
    "plt.figure(figsize=(10,6))\n",
    "\n",
    "axes = plt.gca()\n",
    "axes.set_xlim([0,i])\n",
    "\n",
    "plt.plot(r)\n",
    "\n",
    "plt.show()"
   ]
  },
  {
   "cell_type": "code",
   "execution_count": null,
   "metadata": {
    "collapsed": true
   },
   "outputs": [],
   "source": []
  }
 ],
 "metadata": {
  "kernelspec": {
   "display_name": "Python 3",
   "language": "python",
   "name": "python3"
  },
  "language_info": {
   "codemirror_mode": {
    "name": "ipython",
    "version": 3
   },
   "file_extension": ".py",
   "mimetype": "text/x-python",
   "name": "python",
   "nbconvert_exporter": "python",
   "pygments_lexer": "ipython3",
   "version": "3.6.1"
  }
 },
 "nbformat": 4,
 "nbformat_minor": 2
}
